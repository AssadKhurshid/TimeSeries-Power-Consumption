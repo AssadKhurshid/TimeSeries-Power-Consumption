
# Power Consumption Time Series Forecasting - Google Colab Compatible

import pandas as pd
import numpy as np
import matplotlib.pyplot as plt
import plotly.express as px
from prophet import Prophet

# Load dataset
url = 'https://raw.githubusercontent.com/selva86/datasets/master/a10.csv'
df = pd.read_csv(url)
df.columns = ['Date', 'Sales']
df['Date'] = pd.to_datetime(df['Date'])

# Plot data
fig = px.line(df, x='Date', y='Sales', title='Monthly Sales (Sample Power Consumption)')
fig.show()

# Prepare for Prophet
df_prophet = df.rename(columns={"Date": "ds", "Sales": "y"})
model = Prophet()
model.fit(df_prophet)

# Forecast future
future = model.make_future_dataframe(periods=12, freq='M')
forecast = model.predict(future)

# Plot forecast
fig2 = model.plot(forecast)
plt.title("Forecasted Power Consumption")
plt.xlabel("Date")
plt.ylabel("Consumption")
plt.grid(True)
plt.show()

# Components
model.plot_components(forecast)
plt.show()

# Save forecast
forecast[['ds', 'yhat', 'yhat_lower', 'yhat_upper']].to_csv("forecast_result.csv", index=False)
print("Forecast complete! File saved as 'forecast_result.csv'")
